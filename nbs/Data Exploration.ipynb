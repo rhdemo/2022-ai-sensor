{
 "cells": [
  {
   "cell_type": "markdown",
   "id": "0bdb4667",
   "metadata": {},
   "source": [
    "## Imports"
   ]
  },
  {
   "cell_type": "code",
   "execution_count": 1,
   "id": "ef81cded",
   "metadata": {},
   "outputs": [],
   "source": [
    "%matplotlib inline\n",
    "\n",
    "import json\n",
    "import os\n",
    "import glob\n",
    "import boto3\n",
    "\n",
    "import numpy as np\n",
    "import matplotlib.pylab as plt\n",
    "import pandas as pd"
   ]
  },
  {
   "cell_type": "markdown",
   "id": "67400f40",
   "metadata": {},
   "source": [
    "## Downloading data from S3"
   ]
  },
  {
   "cell_type": "code",
   "execution_count": 2,
   "id": "313a09e2",
   "metadata": {},
   "outputs": [],
   "source": [
    "client = boto3.client('s3',\n",
    "                     aws_access_key_id = os.getenv('aws_access_key'),\n",
    "                     aws_secret_access_key = os.getenv('aws_secret_key'),\n",
    "                     )"
   ]
  },
  {
   "cell_type": "code",
   "execution_count": 3,
   "id": "72666c37",
   "metadata": {},
   "outputs": [],
   "source": [
    "bucket_list = client.list_buckets()"
   ]
  },
  {
   "cell_type": "code",
   "execution_count": 4,
   "id": "748e72a8",
   "metadata": {},
   "outputs": [],
   "source": [
    "bucket_name = 'summit-demo'"
   ]
  },
  {
   "cell_type": "code",
   "execution_count": 5,
   "id": "318fd30a",
   "metadata": {},
   "outputs": [],
   "source": [
    "object_list = client.list_objects_v2(Bucket = bucket_name)['Contents']"
   ]
  },
  {
   "cell_type": "code",
   "execution_count": 6,
   "id": "41254f88",
   "metadata": {},
   "outputs": [
    {
     "data": {
      "text/plain": [
       "1000"
      ]
     },
     "execution_count": 6,
     "metadata": {},
     "output_type": "execute_result"
    }
   ],
   "source": [
    "len(object_list)"
   ]
  },
  {
   "cell_type": "code",
   "execution_count": 7,
   "id": "682f0f60",
   "metadata": {},
   "outputs": [],
   "source": [
    "paginator = client.get_paginator('list_objects_v2')\n",
    "pages = paginator.paginate(Bucket=bucket_name, Prefix='ai-sensor-v3/device')\n",
    "\n",
    "key_list = []\n",
    "for p in pages:\n",
    "    for o in p['Contents']:\n",
    "        key_list.append(o['Key'])"
   ]
  },
  {
   "cell_type": "code",
   "execution_count": 8,
   "id": "71cc97c9",
   "metadata": {},
   "outputs": [
    {
     "name": "stdout",
     "output_type": "stream",
     "text": [
      "['ai-sensor-v3/device01/2022-02-28T16:06:33.752829.json', 'ai-sensor-v3/device01/2022-02-28T16:06:33.753092.json', 'ai-sensor-v3/device01/2022-02-28T16:06:33.754278.json', 'ai-sensor-v3/device01/2022-02-28T16:06:33.754584.json', 'ai-sensor-v3/device01/2022-02-28T16:06:34.490625.json', 'ai-sensor-v3/device01/2022-02-28T16:06:34.492986.json', 'ai-sensor-v3/device01/2022-02-28T16:06:35.315408.json', 'ai-sensor-v3/device01/2022-02-28T16:06:36.039800.json', 'ai-sensor-v3/device01/2022-02-28T16:06:37.446556.json', 'ai-sensor-v3/device01/2022-02-28T16:06:37.496693.json']\n"
     ]
    }
   ],
   "source": [
    "print(key_list[0:10])"
   ]
  },
  {
   "cell_type": "code",
   "execution_count": 9,
   "id": "e374095d",
   "metadata": {},
   "outputs": [
    {
     "data": {
      "text/plain": [
       "1658"
      ]
     },
     "execution_count": 9,
     "metadata": {},
     "output_type": "execute_result"
    }
   ],
   "source": [
    "len(key_list)"
   ]
  },
  {
   "cell_type": "markdown",
   "id": "1dd4d922",
   "metadata": {},
   "source": [
    "### WARNING: This will start downloading data"
   ]
  },
  {
   "cell_type": "code",
   "execution_count": 10,
   "id": "a7a1d41f",
   "metadata": {},
   "outputs": [],
   "source": [
    "data_list = []\n",
    "for k in key_list:\n",
    "    data = client.get_object(Bucket = bucket_name, Key = k)['Body'].readlines()\n",
    "    data_list.append(data)"
   ]
  },
  {
   "cell_type": "markdown",
   "id": "73e862db",
   "metadata": {},
   "source": [
    "## Data Exploration and Plotting"
   ]
  },
  {
   "cell_type": "code",
   "execution_count": 12,
   "id": "886538da",
   "metadata": {},
   "outputs": [
    {
     "name": "stdout",
     "output_type": "stream",
     "text": [
      "Example data: <class 'bytes'> \n",
      " b'{\"specversion\":\"1.0\",\"id\":\"9908c9cb-2658-44b1-9123-a0f84bf26597\",\"type\":\"io.drogue.event.v1\",\"source\":\"drogue://burrboard/device01\",\"datacontenttype\":\"application/json\",\"subject\":\"state\",\"time\":\"2022-02-28T16:06:33.741695136Z\",\"data\":{\"features\":{\"led_1\":{\"state\":false}}},\"applicationuid\":\"6336013e-75d0-4457-b941-8ba63f5f0597\",\"deviceuid\":\"c0108d44-8980-44f8-8201-46681179b184\",\"senderuid\":\"c0108d44-8980-44f8-8201-46681179b184\",\"sender\":\"device01\",\"application\":\"burrboard\",\"device\":\"device01\",\"instance\":\"drogue\",\"partitionkey\":\"burrboard/device01\"}'\n",
      "\n",
      "Decoded data: <class 'dict'>\n",
      " {'specversion': '1.0', 'id': '9908c9cb-2658-44b1-9123-a0f84bf26597', 'type': 'io.drogue.event.v1', 'source': 'drogue://burrboard/device01', 'datacontenttype': 'application/json', 'subject': 'state', 'time': '2022-02-28T16:06:33.741695136Z', 'data': {'features': {'led_1': {'state': False}}}, 'applicationuid': '6336013e-75d0-4457-b941-8ba63f5f0597', 'deviceuid': 'c0108d44-8980-44f8-8201-46681179b184', 'senderuid': 'c0108d44-8980-44f8-8201-46681179b184', 'sender': 'device01', 'application': 'burrboard', 'device': 'device01', 'instance': 'drogue', 'partitionkey': 'burrboard/device01'}\n",
      "\n",
      "Decode data: {'features': {'led_1': {'state': False}}}\n"
     ]
    }
   ],
   "source": [
    "print(f'Example data: {type(data_list[0][0])} \\n {data_list[0][0]}')\n",
    "data = [json.loads(d[0].decode('utf-8')) for d in data_list]\n",
    "print(f'\\nDecoded data: {type(data[0])}\\n {data[0]}')\n",
    "print(f'\\nDecode data: {data[0][\"data\"]}')"
   ]
  },
  {
   "cell_type": "code",
   "execution_count": 13,
   "id": "a58088da",
   "metadata": {},
   "outputs": [
    {
     "name": "stdout",
     "output_type": "stream",
     "text": [
      "Number of unique devices: 5\n"
     ]
    }
   ],
   "source": [
    "uniq_dids = np.unique([d['deviceuid'] for d in data])\n",
    "print(f'Number of unique devices: {len(uniq_dids)}')"
   ]
  },
  {
   "cell_type": "code",
   "execution_count": 14,
   "id": "c5411e38",
   "metadata": {
    "scrolled": true
   },
   "outputs": [
    {
     "name": "stdout",
     "output_type": "stream",
     "text": [
      "Each data packet can consist of one or multiple metrics collected at particular timestamp\n",
      "Distribution of number of metrics\n",
      "\t196 data packets/timestamps have 1 metrics/features\n",
      "\t1035 data packets/timestamps have 8 metrics/features\n",
      "\t427 data packets/timestamps have 10 metrics/features\n"
     ]
    }
   ],
   "source": [
    "#number of features\n",
    "#[d['data'] for d in data if len(d['data']['features'])>1] \n",
    "print('Each data packet can consist of one or multiple metrics collected at particular timestamp')\n",
    "print(f'Distribution of number of metrics')\n",
    "n_metrics, n_counts = np.unique([len(d['data']['features']) for d in data], return_counts=True)\n",
    "for idx in range(len(n_metrics)):\n",
    "    print(f'\\t{n_counts[idx]} data packets/timestamps have {n_metrics[idx]} metrics/features')"
   ]
  },
  {
   "cell_type": "code",
   "execution_count": 15,
   "id": "9ddd176d",
   "metadata": {},
   "outputs": [
    {
     "name": "stdout",
     "output_type": "stream",
     "text": [
      "Metrics/features collected:\n",
      "\t accelerometer\n",
      "\t button_a\n",
      "\t button_b\n",
      "\t device\n",
      "\t led_1\n",
      "\t led_2\n",
      "\t led_3\n",
      "\t led_4\n",
      "\t light\n",
      "\t temperature\n"
     ]
    }
   ],
   "source": [
    "#unique features\n",
    "uniq_features = np.unique(np.concatenate([list(d['data']['features'].keys()) for d in data]))\n",
    "print('Metrics/features collected:')\n",
    "for f in uniq_features: print('\\t', f)"
   ]
  },
  {
   "cell_type": "code",
   "execution_count": 16,
   "id": "c1bfae9b",
   "metadata": {},
   "outputs": [
    {
     "data": {
      "text/plain": [
       "array(['accelerometer', 'button_a', 'button_b', 'device', 'led_1',\n",
       "       'led_2', 'led_3', 'led_4', 'light', 'temperature'], dtype='<U13')"
      ]
     },
     "execution_count": 16,
     "metadata": {},
     "output_type": "execute_result"
    }
   ],
   "source": [
    "uniq_features"
   ]
  },
  {
   "cell_type": "code",
   "execution_count": 19,
   "id": "523f78a0",
   "metadata": {},
   "outputs": [
    {
     "data": {
      "text/plain": [
       "{'specversion': '1.0',\n",
       " 'id': '9908c9cb-2658-44b1-9123-a0f84bf26597',\n",
       " 'type': 'io.drogue.event.v1',\n",
       " 'source': 'drogue://burrboard/device01',\n",
       " 'datacontenttype': 'application/json',\n",
       " 'subject': 'state',\n",
       " 'time': '2022-02-28T16:06:33.741695136Z',\n",
       " 'data': {'features': {'led_1': {'state': False}}},\n",
       " 'applicationuid': '6336013e-75d0-4457-b941-8ba63f5f0597',\n",
       " 'deviceuid': 'c0108d44-8980-44f8-8201-46681179b184',\n",
       " 'senderuid': 'c0108d44-8980-44f8-8201-46681179b184',\n",
       " 'sender': 'device01',\n",
       " 'application': 'burrboard',\n",
       " 'device': 'device01',\n",
       " 'instance': 'drogue',\n",
       " 'partitionkey': 'burrboard/device01'}"
      ]
     },
     "execution_count": 19,
     "metadata": {},
     "output_type": "execute_result"
    }
   ],
   "source": [
    "data[0]"
   ]
  },
  {
   "cell_type": "code",
   "execution_count": 23,
   "id": "b2a77ac2",
   "metadata": {},
   "outputs": [
    {
     "name": "stdout",
     "output_type": "stream",
     "text": [
      "Fields available for metrics:\n",
      "\t led_1 ['state']\n",
      "\t temperature ['value']\n",
      "\t led_3 ['state']\n",
      "\t led_2 ['state']\n",
      "\t light ['value']\n",
      "\t led_4 ['state']\n",
      "\t button_a ['presses']\n",
      "\t button_b ['presses']\n",
      "\t accelerometer ['x', 'y', 'z']\n",
      "\t device ['battery']\n"
     ]
    }
   ],
   "source": [
    "fields = {}\n",
    "for d in data:\n",
    "    for f in d['data']['features']:\n",
    "        if f not in fields:\n",
    "            fields[f] = []\n",
    "        for k in d['data']['features'][f].keys():\n",
    "            if k not in fields[f]:\n",
    "                fields[f].append(k)\n",
    "\n",
    "print('Fields available for metrics:')\n",
    "for k in fields:\n",
    "    print('\\t', k, fields[k])"
   ]
  },
  {
   "cell_type": "code",
   "execution_count": 9,
   "id": "a1321f9f",
   "metadata": {},
   "outputs": [
    {
     "ename": "NameError",
     "evalue": "name 'uniq_dids' is not defined",
     "output_type": "error",
     "traceback": [
      "\u001b[0;31m---------------------------------------------------------------------------\u001b[0m",
      "\u001b[0;31mNameError\u001b[0m                                 Traceback (most recent call last)",
      "\u001b[0;32m/tmp/ipykernel_26304/1128523261.py\u001b[0m in \u001b[0;36m<module>\u001b[0;34m\u001b[0m\n\u001b[1;32m      1\u001b[0m \u001b[0;31m#format data by device ids (\"did\")\u001b[0m\u001b[0;34m\u001b[0m\u001b[0;34m\u001b[0m\u001b[0m\n\u001b[1;32m      2\u001b[0m \u001b[0mdata_ts\u001b[0m \u001b[0;34m=\u001b[0m \u001b[0;34m{\u001b[0m\u001b[0;34m}\u001b[0m\u001b[0;34m\u001b[0m\u001b[0;34m\u001b[0m\u001b[0m\n\u001b[0;32m----> 3\u001b[0;31m \u001b[0;32mfor\u001b[0m \u001b[0mi\u001b[0m \u001b[0;32min\u001b[0m \u001b[0muniq_dids\u001b[0m\u001b[0;34m:\u001b[0m\u001b[0;34m\u001b[0m\u001b[0;34m\u001b[0m\u001b[0m\n\u001b[0m\u001b[1;32m      4\u001b[0m     \u001b[0mdata_ts\u001b[0m\u001b[0;34m[\u001b[0m\u001b[0mi\u001b[0m\u001b[0;34m]\u001b[0m \u001b[0;34m=\u001b[0m \u001b[0;34m[\u001b[0m\u001b[0;34m(\u001b[0m\u001b[0md\u001b[0m\u001b[0;34m[\u001b[0m\u001b[0;34m'time'\u001b[0m\u001b[0;34m]\u001b[0m\u001b[0;34m,\u001b[0m \u001b[0md\u001b[0m\u001b[0;34m[\u001b[0m\u001b[0;34m'data'\u001b[0m\u001b[0;34m]\u001b[0m\u001b[0;34m)\u001b[0m \u001b[0;32mfor\u001b[0m \u001b[0md\u001b[0m \u001b[0;32min\u001b[0m \u001b[0mdata\u001b[0m \u001b[0;32mif\u001b[0m \u001b[0md\u001b[0m\u001b[0;34m[\u001b[0m\u001b[0;34m'deviceuid'\u001b[0m\u001b[0;34m]\u001b[0m\u001b[0;34m==\u001b[0m\u001b[0mi\u001b[0m\u001b[0;34m]\u001b[0m\u001b[0;34m\u001b[0m\u001b[0;34m\u001b[0m\u001b[0m\n\u001b[1;32m      5\u001b[0m \u001b[0;34m\u001b[0m\u001b[0m\n",
      "\u001b[0;31mNameError\u001b[0m: name 'uniq_dids' is not defined"
     ]
    }
   ],
   "source": [
    "#format data by device ids (\"did\")\n",
    "data_ts = {}\n",
    "for i in uniq_dids: \n",
    "    data_ts[i] = [(d['time'], d['data']) for d in data if d['deviceuid']==i]\n",
    "    \n",
    "data_df = {'deviceuid': [], 'timestamp': [], 'metric': [], 'key': [], 'val': []}\n",
    "for d in data: #(ts, uid)\n",
    "    for m in d['data']['features']: #light, temp, accelerometer etc.\n",
    "        if m=='accelerometer':\n",
    "            data_df['deviceuid'].append(d['deviceuid'])\n",
    "            data_df['timestamp'].append(d['time'])\n",
    "    \n",
    "            data_df['metric'].append(m)\n",
    "            data_df['key'].append('mag')\n",
    "            \n",
    "            mag = np.sqrt(d['data']['features'][m]['x']**2 + d['data']['features'][m]['y']**2 + d['data']['features'][m]['z']**2)\n",
    "            data_df['val'].append(mag)\n",
    "            \n",
    "        for v in d['data']['features'][m]: #1 val or 3 vals (acc) \n",
    "            \n",
    "            data_df['deviceuid'].append(d['deviceuid'])\n",
    "            data_df['timestamp'].append(d['time'])\n",
    "    \n",
    "            data_df['metric'].append(m)\n",
    "            data_df['key'].append(v)\n",
    "            data_df['val'].append(d['data']['features'][m][v])\n",
    "            \n",
    "data_df_flat = {'deviceuid': [], 'timestamp': []}\n",
    "for f in fields:\n",
    "    for k in fields[f]:\n",
    "        data_df_flat[f'{f}_{k}'] = []\n",
    "\n",
    "for d in data:\n",
    "    data_df_flat['deviceuid'].append(d['deviceuid'])\n",
    "    data_df_flat['timestamp'].append(d['time'])\n",
    "    \n",
    "    for f in uniq_features:\n",
    "        for k in fields[f]:\n",
    "            colname = f'{f}_{k}'            \n",
    "            try:\n",
    "                data_df_flat[colname].append(d['data']['features'][f][k])\n",
    "            except:\n",
    "                data_df_flat[colname].append(np.nan)"
   ]
  },
  {
   "cell_type": "code",
   "execution_count": 54,
   "id": "7290f3d9",
   "metadata": {},
   "outputs": [],
   "source": [
    "df = pd.DataFrame(data_df)\n",
    "df['timestamp'] = pd.to_datetime(df['timestamp'])\n",
    "df.sort_values(by=['deviceuid', 'timestamp', 'metric'], inplace=True)\n",
    "df.to_csv('data.csv', index=False)\n",
    "\n",
    "df_flat = pd.DataFrame(data_df_flat)\n",
    "df_flat['timestamp'] = pd.to_datetime(df_flat['timestamp'])\n",
    "df_flat.sort_values(by=['deviceuid', 'timestamp'], inplace=True)\n",
    "if 'accelerometer_x' in df_flat:\n",
    "    df_flat['accelerometer_mag'] = np.sqrt(df_flat['accelerometer_x'].fillna(0)**2 + df_flat['accelerometer_y'].fillna(0)**2 + df_flat['accelerometer_z'].fillna(0)**2)\n",
    "df_flat.to_csv('data_flat.csv', index=False)"
   ]
  },
  {
   "cell_type": "code",
   "execution_count": 55,
   "id": "518f311c",
   "metadata": {},
   "outputs": [
    {
     "data": {
      "text/html": [
       "<div>\n",
       "<style scoped>\n",
       "    .dataframe tbody tr th:only-of-type {\n",
       "        vertical-align: middle;\n",
       "    }\n",
       "\n",
       "    .dataframe tbody tr th {\n",
       "        vertical-align: top;\n",
       "    }\n",
       "\n",
       "    .dataframe thead th {\n",
       "        text-align: right;\n",
       "    }\n",
       "</style>\n",
       "<table border=\"1\" class=\"dataframe\">\n",
       "  <thead>\n",
       "    <tr style=\"text-align: right;\">\n",
       "      <th></th>\n",
       "      <th>deviceuid</th>\n",
       "      <th>timestamp</th>\n",
       "      <th>metric</th>\n",
       "      <th>key</th>\n",
       "      <th>val</th>\n",
       "    </tr>\n",
       "  </thead>\n",
       "  <tbody>\n",
       "    <tr>\n",
       "      <th>13079</th>\n",
       "      <td>1ba1ce6a-72a3-4372-bbea-afd966ad2767</td>\n",
       "      <td>2022-03-02 15:43:48.133909687+00:00</td>\n",
       "      <td>led_1</td>\n",
       "      <td>state</td>\n",
       "      <td>False</td>\n",
       "    </tr>\n",
       "    <tr>\n",
       "      <th>13078</th>\n",
       "      <td>1ba1ce6a-72a3-4372-bbea-afd966ad2767</td>\n",
       "      <td>2022-03-02 15:43:48.134118885+00:00</td>\n",
       "      <td>led_2</td>\n",
       "      <td>state</td>\n",
       "      <td>False</td>\n",
       "    </tr>\n",
       "    <tr>\n",
       "      <th>13077</th>\n",
       "      <td>1ba1ce6a-72a3-4372-bbea-afd966ad2767</td>\n",
       "      <td>2022-03-02 15:43:48.134351977+00:00</td>\n",
       "      <td>led_3</td>\n",
       "      <td>state</td>\n",
       "      <td>False</td>\n",
       "    </tr>\n",
       "    <tr>\n",
       "      <th>13080</th>\n",
       "      <td>1ba1ce6a-72a3-4372-bbea-afd966ad2767</td>\n",
       "      <td>2022-03-02 15:43:48.134526240+00:00</td>\n",
       "      <td>led_4</td>\n",
       "      <td>state</td>\n",
       "      <td>False</td>\n",
       "    </tr>\n",
       "    <tr>\n",
       "      <th>13076</th>\n",
       "      <td>1ba1ce6a-72a3-4372-bbea-afd966ad2767</td>\n",
       "      <td>2022-03-02 15:43:48.134705075+00:00</td>\n",
       "      <td>temperature</td>\n",
       "      <td>value</td>\n",
       "      <td>29.6</td>\n",
       "    </tr>\n",
       "  </tbody>\n",
       "</table>\n",
       "</div>"
      ],
      "text/plain": [
       "                                  deviceuid  \\\n",
       "13079  1ba1ce6a-72a3-4372-bbea-afd966ad2767   \n",
       "13078  1ba1ce6a-72a3-4372-bbea-afd966ad2767   \n",
       "13077  1ba1ce6a-72a3-4372-bbea-afd966ad2767   \n",
       "13080  1ba1ce6a-72a3-4372-bbea-afd966ad2767   \n",
       "13076  1ba1ce6a-72a3-4372-bbea-afd966ad2767   \n",
       "\n",
       "                                timestamp       metric    key    val  \n",
       "13079 2022-03-02 15:43:48.133909687+00:00        led_1  state  False  \n",
       "13078 2022-03-02 15:43:48.134118885+00:00        led_2  state  False  \n",
       "13077 2022-03-02 15:43:48.134351977+00:00        led_3  state  False  \n",
       "13080 2022-03-02 15:43:48.134526240+00:00        led_4  state  False  \n",
       "13076 2022-03-02 15:43:48.134705075+00:00  temperature  value   29.6  "
      ]
     },
     "execution_count": 55,
     "metadata": {},
     "output_type": "execute_result"
    }
   ],
   "source": [
    "df.head()"
   ]
  },
  {
   "cell_type": "code",
   "execution_count": 56,
   "id": "d215e7a0",
   "metadata": {},
   "outputs": [
    {
     "data": {
      "text/html": [
       "<div>\n",
       "<style scoped>\n",
       "    .dataframe tbody tr th:only-of-type {\n",
       "        vertical-align: middle;\n",
       "    }\n",
       "\n",
       "    .dataframe tbody tr th {\n",
       "        vertical-align: top;\n",
       "    }\n",
       "\n",
       "    .dataframe thead th {\n",
       "        text-align: right;\n",
       "    }\n",
       "</style>\n",
       "<table border=\"1\" class=\"dataframe\">\n",
       "  <thead>\n",
       "    <tr style=\"text-align: right;\">\n",
       "      <th></th>\n",
       "      <th>deviceuid</th>\n",
       "      <th>timestamp</th>\n",
       "      <th>led_1_state</th>\n",
       "      <th>temperature_value</th>\n",
       "      <th>led_3_state</th>\n",
       "      <th>led_2_state</th>\n",
       "      <th>light_value</th>\n",
       "      <th>led_4_state</th>\n",
       "      <th>button_a_presses</th>\n",
       "      <th>button_b_presses</th>\n",
       "      <th>accelerometer_x</th>\n",
       "      <th>accelerometer_y</th>\n",
       "      <th>accelerometer_z</th>\n",
       "      <th>device_battery</th>\n",
       "      <th>accelerometer_mag</th>\n",
       "    </tr>\n",
       "  </thead>\n",
       "  <tbody>\n",
       "    <tr>\n",
       "      <th>1396</th>\n",
       "      <td>1ba1ce6a-72a3-4372-bbea-afd966ad2767</td>\n",
       "      <td>2022-03-02 15:43:48.133909687+00:00</td>\n",
       "      <td>False</td>\n",
       "      <td>NaN</td>\n",
       "      <td>NaN</td>\n",
       "      <td>NaN</td>\n",
       "      <td>NaN</td>\n",
       "      <td>NaN</td>\n",
       "      <td>NaN</td>\n",
       "      <td>NaN</td>\n",
       "      <td>NaN</td>\n",
       "      <td>NaN</td>\n",
       "      <td>NaN</td>\n",
       "      <td>NaN</td>\n",
       "      <td>0.0</td>\n",
       "    </tr>\n",
       "    <tr>\n",
       "      <th>1395</th>\n",
       "      <td>1ba1ce6a-72a3-4372-bbea-afd966ad2767</td>\n",
       "      <td>2022-03-02 15:43:48.134118885+00:00</td>\n",
       "      <td>NaN</td>\n",
       "      <td>NaN</td>\n",
       "      <td>NaN</td>\n",
       "      <td>False</td>\n",
       "      <td>NaN</td>\n",
       "      <td>NaN</td>\n",
       "      <td>NaN</td>\n",
       "      <td>NaN</td>\n",
       "      <td>NaN</td>\n",
       "      <td>NaN</td>\n",
       "      <td>NaN</td>\n",
       "      <td>NaN</td>\n",
       "      <td>0.0</td>\n",
       "    </tr>\n",
       "    <tr>\n",
       "      <th>1394</th>\n",
       "      <td>1ba1ce6a-72a3-4372-bbea-afd966ad2767</td>\n",
       "      <td>2022-03-02 15:43:48.134351977+00:00</td>\n",
       "      <td>NaN</td>\n",
       "      <td>NaN</td>\n",
       "      <td>False</td>\n",
       "      <td>NaN</td>\n",
       "      <td>NaN</td>\n",
       "      <td>NaN</td>\n",
       "      <td>NaN</td>\n",
       "      <td>NaN</td>\n",
       "      <td>NaN</td>\n",
       "      <td>NaN</td>\n",
       "      <td>NaN</td>\n",
       "      <td>NaN</td>\n",
       "      <td>0.0</td>\n",
       "    </tr>\n",
       "    <tr>\n",
       "      <th>1397</th>\n",
       "      <td>1ba1ce6a-72a3-4372-bbea-afd966ad2767</td>\n",
       "      <td>2022-03-02 15:43:48.134526240+00:00</td>\n",
       "      <td>NaN</td>\n",
       "      <td>NaN</td>\n",
       "      <td>NaN</td>\n",
       "      <td>NaN</td>\n",
       "      <td>NaN</td>\n",
       "      <td>False</td>\n",
       "      <td>NaN</td>\n",
       "      <td>NaN</td>\n",
       "      <td>NaN</td>\n",
       "      <td>NaN</td>\n",
       "      <td>NaN</td>\n",
       "      <td>NaN</td>\n",
       "      <td>0.0</td>\n",
       "    </tr>\n",
       "    <tr>\n",
       "      <th>1393</th>\n",
       "      <td>1ba1ce6a-72a3-4372-bbea-afd966ad2767</td>\n",
       "      <td>2022-03-02 15:43:48.134705075+00:00</td>\n",
       "      <td>NaN</td>\n",
       "      <td>29.6</td>\n",
       "      <td>NaN</td>\n",
       "      <td>NaN</td>\n",
       "      <td>NaN</td>\n",
       "      <td>NaN</td>\n",
       "      <td>NaN</td>\n",
       "      <td>NaN</td>\n",
       "      <td>NaN</td>\n",
       "      <td>NaN</td>\n",
       "      <td>NaN</td>\n",
       "      <td>NaN</td>\n",
       "      <td>0.0</td>\n",
       "    </tr>\n",
       "  </tbody>\n",
       "</table>\n",
       "</div>"
      ],
      "text/plain": [
       "                                 deviceuid  \\\n",
       "1396  1ba1ce6a-72a3-4372-bbea-afd966ad2767   \n",
       "1395  1ba1ce6a-72a3-4372-bbea-afd966ad2767   \n",
       "1394  1ba1ce6a-72a3-4372-bbea-afd966ad2767   \n",
       "1397  1ba1ce6a-72a3-4372-bbea-afd966ad2767   \n",
       "1393  1ba1ce6a-72a3-4372-bbea-afd966ad2767   \n",
       "\n",
       "                               timestamp led_1_state  temperature_value  \\\n",
       "1396 2022-03-02 15:43:48.133909687+00:00       False                NaN   \n",
       "1395 2022-03-02 15:43:48.134118885+00:00         NaN                NaN   \n",
       "1394 2022-03-02 15:43:48.134351977+00:00         NaN                NaN   \n",
       "1397 2022-03-02 15:43:48.134526240+00:00         NaN                NaN   \n",
       "1393 2022-03-02 15:43:48.134705075+00:00         NaN               29.6   \n",
       "\n",
       "     led_3_state led_2_state  light_value led_4_state  button_a_presses  \\\n",
       "1396         NaN         NaN          NaN         NaN               NaN   \n",
       "1395         NaN       False          NaN         NaN               NaN   \n",
       "1394       False         NaN          NaN         NaN               NaN   \n",
       "1397         NaN         NaN          NaN       False               NaN   \n",
       "1393         NaN         NaN          NaN         NaN               NaN   \n",
       "\n",
       "      button_b_presses  accelerometer_x  accelerometer_y  accelerometer_z  \\\n",
       "1396               NaN              NaN              NaN              NaN   \n",
       "1395               NaN              NaN              NaN              NaN   \n",
       "1394               NaN              NaN              NaN              NaN   \n",
       "1397               NaN              NaN              NaN              NaN   \n",
       "1393               NaN              NaN              NaN              NaN   \n",
       "\n",
       "      device_battery  accelerometer_mag  \n",
       "1396             NaN                0.0  \n",
       "1395             NaN                0.0  \n",
       "1394             NaN                0.0  \n",
       "1397             NaN                0.0  \n",
       "1393             NaN                0.0  "
      ]
     },
     "execution_count": 56,
     "metadata": {},
     "output_type": "execute_result"
    }
   ],
   "source": [
    "df_flat.head()"
   ]
  },
  {
   "cell_type": "code",
   "execution_count": 67,
   "id": "d38536df",
   "metadata": {
    "scrolled": false
   },
   "outputs": [
    {
     "data": {
      "text/plain": [
       "<Figure size 1080x1080 with 0 Axes>"
      ]
     },
     "metadata": {},
     "output_type": "display_data"
    },
    {
     "data": {
      "image/png": "[encoded data removed]",
      "text/plain": [
       "<Figure size 432x288 with 3 Axes>"
      ]
     },
     "metadata": {
      "needs_background": "light"
     },
     "output_type": "display_data"
    },
    {
     "data": {
      "text/plain": [
       "<Figure size 1080x1080 with 0 Axes>"
      ]
     },
     "metadata": {},
     "output_type": "display_data"
    },
    {
     "data": {
      "image/png": "[encoded data removed]",
      "text/plain": [
       "<Figure size 432x288 with 3 Axes>"
      ]
     },
     "metadata": {
      "needs_background": "light"
     },
     "output_type": "display_data"
    },
    {
     "data": {
      "image/png": "[encoded data removed]",
      "text/plain": [
       "<Figure size 432x288 with 1 Axes>"
      ]
     },
     "metadata": {
      "needs_background": "light"
     },
     "output_type": "display_data"
    },
    {
     "data": {
      "image/png": "[encoded data removed]",
      "text/plain": [
       "<Figure size 432x288 with 1 Axes>"
      ]
     },
     "metadata": {
      "needs_background": "light"
     },
     "output_type": "display_data"
    },
    {
     "data": {
      "image/png": "[encoded data removed]",
      "text/plain": [
       "<Figure size 432x288 with 1 Axes>"
      ]
     },
     "metadata": {
      "needs_background": "light"
     },
     "output_type": "display_data"
    },
    {
     "data": {
      "text/plain": [
       "<Figure size 1080x1080 with 0 Axes>"
      ]
     },
     "metadata": {},
     "output_type": "display_data"
    },
    {
     "data": {
      "image/png": "[encoded data removed]",
      "text/plain": [
       "<Figure size 432x288 with 3 Axes>"
      ]
     },
     "metadata": {
      "needs_background": "light"
     },
     "output_type": "display_data"
    },
    {
     "data": {
      "text/plain": [
       "<Figure size 1080x1080 with 0 Axes>"
      ]
     },
     "metadata": {},
     "output_type": "display_data"
    },
    {
     "data": {
      "image/png": "[encoded data removed]",
      "text/plain": [
       "<Figure size 432x288 with 3 Axes>"
      ]
     },
     "metadata": {
      "needs_background": "light"
     },
     "output_type": "display_data"
    },
    {
     "data": {
      "text/plain": [
       "<Figure size 1080x1080 with 0 Axes>"
      ]
     },
     "metadata": {},
     "output_type": "display_data"
    },
    {
     "data": {
      "image/png": "[encoded data removed]",
      "text/plain": [
       "<Figure size 432x288 with 3 Axes>"
      ]
     },
     "metadata": {
      "needs_background": "light"
     },
     "output_type": "display_data"
    }
   ],
   "source": [
    "features = ['light', 'temperature', 'accelerometer']\n",
    "\n",
    "for did in uniq_dids:\n",
    "    plt.figure(figsize=(15,15))\n",
    "    fig, ax = plt.subplots(nrows=1, ncols=len(features))\n",
    "    \n",
    "    for idx, m in enumerate(features):\n",
    "        #plt.subplot(f'{len(features)}1{idx+1}')\n",
    "        \n",
    "        if m=='accelerometer':\n",
    "            filtered = df[(df['deviceuid']==did) & (df['metric']==m) & (df['key']=='mag')]['val']\n",
    "        else:\n",
    "            filtered = df[(df['deviceuid']==did) & (df['metric']==m)]['val']\n",
    "            \n",
    "        if filtered.shape[0] > 0:\n",
    "            ax[idx].plot(filtered)\n",
    "            ax[idx].set_title(m)\n",
    "        \n",
    "    temp_df = df_flat[(df_flat['deviceuid']==did)].dropna().sort_values(by='timestamp')        \n",
    "    if temp_df.shape[0] > 0:\n",
    "        _ = plt.figure()\n",
    "        plt.plot(temp_df['temperature_value'], temp_df['light_value'], 'p')\n",
    "        plt.xlabel('temperature')\n",
    "        plt.ylabel('light')\n",
    "\n",
    "        _ = plt.figure()\n",
    "        plt.plot(temp_df['temperature_value'], temp_df['accelerometer_mag'], 'p')\n",
    "        plt.xlabel('temperature')\n",
    "        plt.ylabel('acceleration magnitude')\n",
    "\n",
    "        _ = plt.figure()\n",
    "        plt.plot(temp_df['light_value'], temp_df['accelerometer_mag'], 'p')\n",
    "        plt.xlabel('light')\n",
    "        plt.ylabel('acceleration magnitude')"
   ]
  },
  {
   "cell_type": "markdown",
   "id": "98757e7c",
   "metadata": {},
   "source": [
    "## Write to file"
   ]
  },
  {
   "cell_type": "code",
   "execution_count": 12,
   "id": "75610e7f",
   "metadata": {},
   "outputs": [
    {
     "name": "stdout",
     "output_type": "stream",
     "text": [
      "Overwriting ../service/test/test.py\n"
     ]
    }
   ],
   "source": [
    "%%writefile ../service/test/test.py\n",
    "\n",
    "import json\n",
    "import os\n",
    "import glob\n",
    "import boto3\n",
    "\n",
    "import numpy as np\n",
    "import matplotlib.pylab as plt\n",
    "import pandas as pd\n",
    "\n",
    "def read_data(bucket_name='summit-demo', prefix='ai-sensor-v3/device', n_data_max=None):\n",
    "    '''use s3 client to download data from bucket\n",
    "    '''\n",
    "    client = boto3.client('s3',\n",
    "                     aws_access_key_id = os.getenv('aws_access_key'),\n",
    "                     aws_secret_access_key = os.getenv('aws_secret_key'),\n",
    "                     )\n",
    "\n",
    "    bucket_list = client.list_buckets()\n",
    "\n",
    "    object_list = client.list_objects_v2(Bucket = bucket_name)['Contents']\n",
    "\n",
    "    paginator = client.get_paginator('list_objects_v2')\n",
    "    pages = paginator.paginate(Bucket=bucket_name, Prefix=prefix)\n",
    "\n",
    "    key_list = []\n",
    "    for p in pages:\n",
    "        for o in p['Contents']:\n",
    "            key_list.append(o['Key'])\n",
    "\n",
    "    print(f'Example keys:')\n",
    "    for k in key_list[0:10]: print('\\t', k)\n",
    "\n",
    "    n_keys = len(key_list)\n",
    "    data_list = []\n",
    "    for idx, k in enumerate(key_list):\n",
    "        if n_data_max is not None and idx >= n_data_max: break\n",
    "            \n",
    "        if idx % 100 == 0:\n",
    "            print(f'Fetching key number {idx+1} of {n_keys}')\n",
    "            \n",
    "        data = client.get_object(Bucket = bucket_name, Key = k)['Body'].readlines()\n",
    "        data_list.append(data)\n",
    "    \n",
    "    return data_list\n",
    "    \n",
    "def create_df(data_list, out_loc):\n",
    "    '''create dataframes from raw data\n",
    "    '''\n",
    "\n",
    "    data = [json.loads(d[0].decode('utf-8')) for d in data_list] #decode dictionaries    \n",
    "    \n",
    "    uniq_dids = np.unique([d['deviceuid'] for d in data]) #unique device uids\n",
    "    uniq_features = np.unique(np.concatenate([list(d['data']['features'].keys()) for d in data])) #unique feature names\n",
    "\n",
    "    fields = {} #get mapping from field name -> dict key e.g. accelerometer -> ['x', 'y', 'z']\n",
    "    for d in data:\n",
    "        for f in d['data']['features']:\n",
    "            if f not in fields:\n",
    "                fields[f] = []\n",
    "            for k in d['data']['features'][f].keys():\n",
    "                if k not in fields[f]:\n",
    "                    fields[f].append(k)\n",
    "\n",
    "    #one row per device, timestamp, and metric\n",
    "    data_df = {'deviceuid': [], 'timestamp': [], 'metric': [], 'key': [], 'val': []}\n",
    "    for d in data: #(ts, uid)\n",
    "        for m in d['data']['features']: #light, temp, accelerometer etc.\n",
    "            if m=='accelerometer':\n",
    "                data_df['deviceuid'].append(d['deviceuid'])\n",
    "                data_df['timestamp'].append(d['time'])\n",
    "\n",
    "                data_df['metric'].append(m)\n",
    "                data_df['key'].append('mag')\n",
    "\n",
    "                mag = np.sqrt(d['data']['features'][m]['x']**2 + d['data']['features'][m]['y']**2 + d['data']['features'][m]['z']**2)\n",
    "                data_df['val'].append(mag)\n",
    "\n",
    "            for v in d['data']['features'][m]: #1 val or 3 vals (acc) \n",
    "\n",
    "                data_df['deviceuid'].append(d['deviceuid'])\n",
    "                data_df['timestamp'].append(d['time'])\n",
    "\n",
    "                data_df['metric'].append(m)\n",
    "                data_df['key'].append(v)\n",
    "                data_df['val'].append(d['data']['features'][m][v])\n",
    "\n",
    "    #one row per device, timestamp (metrics flattened into row)\n",
    "    data_df_flat = {'deviceuid': [], 'timestamp': []}\n",
    "    for f in fields:\n",
    "        for k in fields[f]:\n",
    "            data_df_flat[f'{f}_{k}'] = []\n",
    "\n",
    "    for d in data:\n",
    "        data_df_flat['deviceuid'].append(d['deviceuid'])\n",
    "        data_df_flat['timestamp'].append(d['time'])\n",
    "\n",
    "        for f in uniq_features:\n",
    "            for k in fields[f]:\n",
    "                colname = f'{f}_{k}'            \n",
    "                try:\n",
    "                    data_df_flat[colname].append(d['data']['features'][f][k])\n",
    "                except:\n",
    "                    data_df_flat[colname].append(np.nan)\n",
    "\n",
    "    #create and save dataframes\n",
    "    if not os.path.exists(out_loc):\n",
    "        os.makedirs(out_loc)\n",
    "    \n",
    "    df = pd.DataFrame(data_df)\n",
    "    df['timestamp'] = pd.to_datetime(df['timestamp'])\n",
    "    df.sort_values(by=['deviceuid', 'timestamp', 'metric'], inplace=True)\n",
    "    df.to_csv(f'{out_loc}/data.csv', index=False)\n",
    "\n",
    "    df_flat = pd.DataFrame(data_df_flat)\n",
    "    df_flat['timestamp'] = pd.to_datetime(df_flat['timestamp'])\n",
    "    df_flat.sort_values(by=['deviceuid', 'timestamp'], inplace=True)\n",
    "    df_flat['accelerometer_mag'] = df_flat[['accelerometer_x', 'accelerometer_y', 'accelerometer_z']].apply(lambda x: np.sqrt((x**2).sum()) if not x.isna().any() else np.nan, axis=1)\n",
    "\n",
    "    df_flat.to_csv(f'{out_loc}/data_flat.csv', index=False)\n",
    "    \n",
    "    return df, df_flat, fields\n",
    "    \n",
    "def read_data_from_csv(out_loc):\n",
    "    df = pd.read_csv(f'{out_loc}/data.csv')\n",
    "    df_flat = pd.read_csv(f'{out_loc}/data_flat.csv')\n",
    "    \n",
    "    return df, df_flat\n",
    "    \n",
    "def plot_data(df, df_flat):\n",
    "    features = ['light', 'temperature', 'accelerometer'] #should be in config\n",
    "\n",
    "    uniq_dids = df['deviceuid'].unique()\n",
    "    \n",
    "    for did in uniq_dids:\n",
    "        plt.figure(figsize=(15,15))\n",
    "        fig, ax = plt.subplots(nrows=1, ncols=len(features))\n",
    "\n",
    "        for idx, m in enumerate(features):\n",
    "            #plt.subplot(f'{len(features)}1{idx+1}')\n",
    "\n",
    "            if m=='accelerometer':\n",
    "                filtered = df[(df['deviceuid']==did) & (df['metric']==m) & (df['key']=='mag')]['val']\n",
    "            else:\n",
    "                filtered = df[(df['deviceuid']==did) & (df['metric']==m)]['val']\n",
    "\n",
    "            if filtered.shape[0] > 0:\n",
    "                ax[idx].plot(filtered)\n",
    "                ax[idx].set_title(m)\n",
    "\n",
    "        temp_df = df_flat[(df_flat['deviceuid']==did)].dropna().sort_values(by='timestamp')        \n",
    "        if temp_df.shape[0] > 0:\n",
    "            _ = plt.figure()\n",
    "            plt.plot(temp_df['temperature_value'], temp_df['light_value'], 'p')\n",
    "            plt.xlabel('temperature')\n",
    "            plt.ylabel('light')\n",
    "\n",
    "            _ = plt.figure()\n",
    "            plt.plot(temp_df['temperature_value'], temp_df['accelerometer_mag'], 'p')\n",
    "            plt.xlabel('temperature')\n",
    "            plt.ylabel('acceleration magnitude')\n",
    "\n",
    "            _ = plt.figure()\n",
    "            plt.plot(temp_df['light_value'], temp_df['accelerometer_mag'], 'p')\n",
    "            plt.xlabel('light')\n",
    "            plt.ylabel('acceleration magnitude')\n",
    "    \n",
    "def calibrate(df, df_flat, plot_loc):\n",
    "    p_list = [10, 25, 50, 75, 90] #compute these percentiles. should be in config file\n",
    "    low_p = 25\n",
    "    high_p = 75\n",
    "        \n",
    "    if not os.path.exists(plot_loc):\n",
    "        os.makedirs(plot_loc)\n",
    "\n",
    "    uniq_dids = df['deviceuid'].unique()\n",
    "    \n",
    "    cals = {} #deviceuid -> feature name -> low, high\n",
    "\n",
    "    for did in list(uniq_dids) + ['global']:\n",
    "        if did == 'global':\n",
    "            temp_df = df_flat.sort_values(by='timestamp')\n",
    "        else:\n",
    "            temp_df = df_flat[df_flat['deviceuid']==did].sort_values(by='timestamp')\n",
    "        \n",
    "        cals[did] = {}\n",
    "        \n",
    "        for k in temp_df.columns: #loop over each metric\n",
    "            cals[did][k] = {}\n",
    "            \n",
    "            if k=='deviceuid' or k=='timestamp': #index columns\n",
    "                continue \n",
    "            \n",
    "            d = temp_df[k].copy()\n",
    "            \n",
    "            if d.dropna().shape[0] == 0: #don't have data\n",
    "                cals[did][k]['low'] = cals[did][k]['high'] = None\n",
    "                \n",
    "            else: #have data                \n",
    "                d = d.dropna()\n",
    "    \n",
    "                plt.figure()\n",
    "                n,b,p = plt.hist(d, bins=10) #plot distribution of values\n",
    "                plt.title(did)\n",
    "                plt.xlabel(k)\n",
    "                \n",
    "                t = np.percentile(d, q=p_list)\n",
    "                \n",
    "                mapping = dict(zip(p_list, t))\n",
    "                print(did, k, mapping)\n",
    "                cals[did][k]['low'] = mapping[low_p]\n",
    "                cals[did][k]['high'] = mapping[high_p]\n",
    "    \n",
    "                #plot percentiles on histogram\n",
    "                for p in p_list:\n",
    "                    plt.vlines(mapping[p], 0, n.max()*1.2, color='r', label=p)\n",
    "                plt.savefig(f'{plot_loc}/{did}_{k}_hist.png')\n",
    "                \n",
    "                plt.figure()\n",
    "                plt.plot(d.tolist(), 'p-')\n",
    "                plt.xlabel('time')\n",
    "                plt.ylabel(k)\n",
    "                plt.title(did)\n",
    "\n",
    "                plt.hlines(mapping[low_p], 0, d.shape[0], color='r')\n",
    "                plt.hlines(mapping[high_p], 0, d.shape[0], color='r')    \n",
    "                plt.savefig(f'{plot_loc}/{did}_{k}_ts.png')\n",
    "    \n",
    "    return cals\n",
    "\n",
    "def write_json(cals, loc):\n",
    "    json.dump(cals, open(loc, 'r'))\n",
    "\n",
    "def read_json(loc):\n",
    "    return json.load(open(loc, 'r'))\n",
    "\n",
    "def predict(data, cals, fields):\n",
    "    '''Input is data packet\n",
    "    '''\n",
    "    res = {}\n",
    "    \n",
    "    for f in data['features']: #'acc', 'led_1' etc.\n",
    "        res = {}\n",
    "        if f=='accelerometer':\n",
    "            val = 0\n",
    "            for k in fields[f]:\n",
    "                val += data['features'][f][k]**2\n",
    "            val = np.sqrt(val)\n",
    "\n",
    "            k = 'mag'\n",
    "            r = (val > cals[data['deviceuid']][f'{f}_{k}']['low']) and (val < cals[data['deviceuid']][f'{f}_{k}']['high'])\n",
    "            \n",
    "        else:\n",
    "            for k in fields[f]:\n",
    "                \n",
    "                val = data['features'][f][k]\n",
    "                \n",
    "                r = (val > cals[data['deviceuid']][f'{f}_{k}']['low']) and (val < cals[data['deviceuid']][f'{f}_{k}']['high'])\n",
    "                \n",
    "                res[f'{f}_{k}'] = r\n",
    "        \n",
    "    return res"
   ]
  },
  {
   "cell_type": "markdown",
   "id": "12aeb3bd",
   "metadata": {},
   "source": [
    "# Synthetic data examples"
   ]
  },
  {
   "cell_type": "code",
   "execution_count": null,
   "id": "1f0e1142",
   "metadata": {},
   "outputs": [],
   "source": [
    "def gen_data(mean, std, N=1000):\n",
    "    '''This is not representative of time-series\n",
    "    data since all samples are generated independently\n",
    "    i.e. no correlations but the goal is to show simple\n",
    "    strategies for scoring so it's okay\n",
    "    '''\n",
    "    return np.random.normal(loc=mean, scale=std, size=N)"
   ]
  },
  {
   "cell_type": "code",
   "execution_count": null,
   "id": "98567e4c",
   "metadata": {},
   "outputs": [],
   "source": [
    "N = 100"
   ]
  },
  {
   "cell_type": "code",
   "execution_count": null,
   "id": "99ce2d24",
   "metadata": {},
   "outputs": [],
   "source": [
    "acc_x = gen_data(1, 0.2, N)\n",
    "acc_y = gen_data(1, 0.2, N)\n",
    "acc_z = gen_data(1, 0.2, N)\n",
    "light = gen_data(3, 2, N)\n",
    "temp = gen_data(10, 1, N)"
   ]
  },
  {
   "cell_type": "markdown",
   "id": "76d92969",
   "metadata": {},
   "source": [
    "#### Note: no units assumed in the plots below i.e. these could be some uncalibrated measurements"
   ]
  },
  {
   "cell_type": "code",
   "execution_count": null,
   "id": "4bd53c30",
   "metadata": {},
   "outputs": [],
   "source": [
    "plt.figure()\n",
    "plt.plot(light)\n",
    "plt.xlabel('time')\n",
    "plt.ylabel('light sensor measurement')\n",
    "plt.title('light')\n",
    "\n",
    "plt.figure()\n",
    "plt.plot(temp)\n",
    "plt.xlabel('time')\n",
    "plt.ylabel('temperature sensor measurement')\n",
    "plt.title('temperature')\n",
    "\n",
    "plt.figure()\n",
    "plt.plot(np.sqrt(acc_x**2 + acc_y**2 + acc_z**2))\n",
    "plt.xlabel('time')\n",
    "plt.ylabel('acceleration magnitude')\n",
    "plt.title('acceleration magnitude')"
   ]
  },
  {
   "cell_type": "markdown",
   "id": "7d46ce09",
   "metadata": {},
   "source": [
    "### Strategy 1: make a histogram and pick percentiles (only working with light but applies to temperature and acceleration magnitude too)"
   ]
  },
  {
   "cell_type": "code",
   "execution_count": null,
   "id": "985acae7",
   "metadata": {},
   "outputs": [],
   "source": [
    "_ = plt.hist(light) #plot distribution of values\n",
    "\n",
    "p_list = [10, 25, 50, 75, 90] #compute these percentiles\n",
    "t = np.percentile(light, q=p_list)\n",
    "mapping = dict(zip(p_list, t))\n",
    "\n",
    "print(mapping)\n",
    "#plot percentiles on histogram\n",
    "for p in p_list:\n",
    "    plt.vlines(mapping[p], 0, 25, color='r', label=p)\n",
    "    \n",
    "plt.figure()\n",
    "plt.plot(light)\n",
    "plt.xlabel('time')\n",
    "plt.ylabel('measurement')\n",
    "\n",
    "low_p = 25\n",
    "high_p = 75\n",
    "plt.hlines(mapping[low_p], 0, N-1, color='r')\n",
    "plt.hlines(mapping[high_p], 0, N-1, color='r')"
   ]
  },
  {
   "cell_type": "code",
   "execution_count": null,
   "id": "de229f87",
   "metadata": {},
   "outputs": [],
   "source": [
    "plt.hist(np.ones(100)*4)"
   ]
  },
  {
   "cell_type": "markdown",
   "id": "1473a53d",
   "metadata": {},
   "source": [
    "### Strategy 2: ask user to perform action to get maximum light/temperature/acceleration and then scale data to range 0-1 (acceleration magnitude minimum is already 1. not sure about light/temperature sensors)"
   ]
  },
  {
   "cell_type": "code",
   "execution_count": null,
   "id": "6b0ebc4e",
   "metadata": {},
   "outputs": [],
   "source": [
    "plt.plot(light)"
   ]
  },
  {
   "cell_type": "code",
   "execution_count": null,
   "id": "70718281",
   "metadata": {},
   "outputs": [],
   "source": [
    "light_normalized = (light - light.min()) / (light.max() - light.min()) #scale to value between 0-1\n",
    "plt.plot(light_normalized)"
   ]
  },
  {
   "cell_type": "code",
   "execution_count": null,
   "id": "bf02d98f",
   "metadata": {},
   "outputs": [],
   "source": [
    "#these are absolute thresholds i.e. not distribution/histogram based\n",
    "low_threshold = 0.3\n",
    "high_threshold = 0.6\n",
    "plt.plot(light_normalized)\n",
    "plt.hlines(low_threshold, 0, N-1, color='r')\n",
    "plt.hlines(high_threshold, 0, N-1, color='r')"
   ]
  },
  {
   "cell_type": "markdown",
   "id": "349d7dc1",
   "metadata": {},
   "source": [
    "# Scoring"
   ]
  },
  {
   "cell_type": "markdown",
   "id": "c397e8b4",
   "metadata": {},
   "source": [
    "Many options:\n",
    "\n",
    "* score = 1 if data within range and score = 0 if data outside range\n",
    "\n",
    "* score = 1 if data within range and score decreases (e.g. exponentially) as data falls outside\n",
    "\n"
   ]
  },
  {
   "cell_type": "code",
   "execution_count": null,
   "id": "2c4152bd",
   "metadata": {},
   "outputs": [],
   "source": [
    "plt.figure()\n",
    "plt.plot(light)\n",
    "plt.xlabel('time')\n",
    "plt.ylabel('measurement')\n",
    "\n",
    "low_p = 25\n",
    "high_p = 75\n",
    "plt.hlines(mapping[low_p], 0, N-1, color='r')\n",
    "plt.hlines(mapping[high_p], 0, N-1, color='r')\n",
    "\n",
    "plt.figure()\n",
    "score_1 = np.logical_and(light < mapping[high_p], light > mapping[low_p]).astype(int)\n",
    "plt.plot(score_1)\n",
    "plt.title('immediate score: hard thresholds')\n",
    "\n",
    "plt.figure()\n",
    "plt.plot(np.cumsum(score_1), color='r')\n",
    "plt.title('cumulative score: hard thresholds')\n",
    "\n",
    "decay_scale = 0.1\n",
    "score_2 = \n",
    "\n",
    "np.max(light - mapping[high_p], 0)\n",
    "np.max(mapping[low_p] - light, 0)"
   ]
  },
  {
   "cell_type": "code",
   "execution_count": null,
   "id": "6d1d5fb9",
   "metadata": {},
   "outputs": [],
   "source": [
    "np.maximum(light - mapping[high_p], 0) + np.maximum(mapping[low_p] - light, 0)"
   ]
  },
  {
   "cell_type": "code",
   "execution_count": null,
   "id": "de787532",
   "metadata": {},
   "outputs": [],
   "source": []
  }
 ],
 "metadata": {
  "kernelspec": {
   "display_name": "Python 3 (ipykernel)",
   "language": "python",
   "name": "python3"
  },
  "language_info": {
   "codemirror_mode": {
    "name": "ipython",
    "version": 3
   },
   "file_extension": ".py",
   "mimetype": "text/x-python",
   "name": "python",
   "nbconvert_exporter": "python",
   "pygments_lexer": "ipython3",
   "version": "3.9.10"
  }
 },
 "nbformat": 4,
 "nbformat_minor": 5
}
