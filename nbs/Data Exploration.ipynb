{
 "cells": [
  {
   "cell_type": "code",
   "execution_count": 1,
   "id": "ef81cded",
   "metadata": {},
   "outputs": [],
   "source": [
    "%matplotlib inline\n",
    "\n",
    "import json\n",
    "import os\n",
    "import glob\n",
    "import boto3\n",
    "\n",
    "import numpy as np\n",
    "import matplotlib.pylab as plt"
   ]
  },
  {
   "cell_type": "markdown",
   "id": "67400f40",
   "metadata": {},
   "source": [
    "## boto3 client "
   ]
  },
  {
   "cell_type": "code",
   "execution_count": 2,
   "id": "313a09e2",
   "metadata": {},
   "outputs": [],
   "source": [
    "client = boto3.client('s3',\n",
    "                     aws_access_key_id = os.getenv('aws_access_key'),\n",
    "                     aws_secret_access_key = os.getenv('aws_secret_key'),\n",
    "                     )"
   ]
  },
  {
   "cell_type": "code",
   "execution_count": 4,
   "id": "72666c37",
   "metadata": {},
   "outputs": [],
   "source": [
    "bucket_list = client.list_buckets()"
   ]
  },
  {
   "cell_type": "code",
   "execution_count": 5,
   "id": "bb194824",
   "metadata": {},
   "outputs": [],
   "source": [
    "bucket_name = 'summit-demo'"
   ]
  },
  {
   "cell_type": "code",
   "execution_count": 15,
   "id": "334dbf86",
   "metadata": {},
   "outputs": [],
   "source": [
    "object_list = client.list_objects_v2(Bucket = bucket_name)['Contents']"
   ]
  },
  {
   "cell_type": "code",
   "execution_count": 21,
   "id": "1eb39246",
   "metadata": {},
   "outputs": [
    {
     "data": {
      "text/plain": [
       "1000"
      ]
     },
     "execution_count": 21,
     "metadata": {},
     "output_type": "execute_result"
    }
   ],
   "source": [
    "len(object_list) #TODO: need paginator to get > 1000 objects"
   ]
  },
  {
   "cell_type": "code",
   "execution_count": 39,
   "id": "2f7ea969",
   "metadata": {},
   "outputs": [],
   "source": [
    "paginator = client.get_paginator('list_objects_v2')\n",
    "pages = paginator.paginate(Bucket=bucket_name, Prefix='ai-sensor/')\n",
    "\n",
    "key_list = []\n",
    "for p in pages:\n",
    "    for o in p['Contents']:\n",
    "        key_list.append(o['Key'])"
   ]
  },
  {
   "cell_type": "code",
   "execution_count": 40,
   "id": "84f8e0ff",
   "metadata": {},
   "outputs": [
    {
     "data": {
      "text/plain": [
       "17470"
      ]
     },
     "execution_count": 40,
     "metadata": {},
     "output_type": "execute_result"
    }
   ],
   "source": [
    "len(key_list)"
   ]
  },
  {
   "cell_type": "code",
   "execution_count": 41,
   "id": "e9b34bf8",
   "metadata": {},
   "outputs": [
    {
     "data": {
      "text/plain": [
       "'ai-sensor/2022-02-24T17:50:02.840805.json'"
      ]
     },
     "execution_count": 41,
     "metadata": {},
     "output_type": "execute_result"
    }
   ],
   "source": [
    "key_list[0]"
   ]
  },
  {
   "cell_type": "code",
   "execution_count": 42,
   "id": "a7a1d41f",
   "metadata": {},
   "outputs": [],
   "source": [
    "data_list = []\n",
    "for k in key_list:\n",
    "    data = client.get_object(Bucket = bucket_name, Key = k)['Body'].readlines()\n",
    "    data_list.append(data)"
   ]
  },
  {
   "cell_type": "markdown",
   "id": "fe651b21",
   "metadata": {},
   "source": [
    "## Plotting"
   ]
  },
  {
   "cell_type": "code",
   "execution_count": 50,
   "id": "9badde41",
   "metadata": {},
   "outputs": [],
   "source": [
    "data = [json.loads(d[0].decode('utf-8')) for d in data_list]"
   ]
  },
  {
   "cell_type": "code",
   "execution_count": 87,
   "id": "d8903add",
   "metadata": {},
   "outputs": [],
   "source": [
    "json.dump(data, open('data.json', 'w'))"
   ]
  },
  {
   "cell_type": "code",
   "execution_count": 52,
   "id": "4588206d",
   "metadata": {},
   "outputs": [],
   "source": [
    "uniq_keys = np.unique([list(d['features'].keys())[0] for d in data])"
   ]
  },
  {
   "cell_type": "code",
   "execution_count": 53,
   "id": "d108d715",
   "metadata": {},
   "outputs": [
    {
     "data": {
      "text/plain": [
       "array(['led_1', 'led_2', 'led_3', 'led_4', 'light', 'temperature'],\n",
       "      dtype='<U11')"
      ]
     },
     "execution_count": 53,
     "metadata": {},
     "output_type": "execute_result"
    }
   ],
   "source": [
    "uniq_keys"
   ]
  },
  {
   "cell_type": "code",
   "execution_count": 80,
   "id": "c75c957a",
   "metadata": {},
   "outputs": [],
   "source": [
    "def get_data(data, colname):\n",
    "    if colname == 'temperature' or colname == 'light':\n",
    "        field = 'value'\n",
    "    else:\n",
    "        field = 'state'\n",
    "    \n",
    "    return [d['features'][colname][field] for d in data if list(d['features'].keys())[0]==colname]"
   ]
  },
  {
   "cell_type": "code",
   "execution_count": 81,
   "id": "c45e63ec",
   "metadata": {},
   "outputs": [
    {
     "data": {
      "text/plain": [
       "array([1024])"
      ]
     },
     "execution_count": 81,
     "metadata": {},
     "output_type": "execute_result"
    },
    {
     "data": {
      "image/png": "[encoded data removed]",
      "text/plain": [
       "<Figure size 432x288 with 1 Axes>"
      ]
     },
     "metadata": {
      "needs_background": "light"
     },
     "output_type": "display_data"
    }
   ],
   "source": [
    "light_data = get_data(data, 'light')\n",
    "plt.plot(light_data)\n",
    "np.unique(light_data)"
   ]
  },
  {
   "cell_type": "code",
   "execution_count": 82,
   "id": "d79153a5",
   "metadata": {},
   "outputs": [
    {
     "data": {
      "text/plain": [
       "array([23.4, 23.5, 23.6, 23.7, 23.8, 23.9, 24. , 24.3, 24.4, 24.7, 24.9,\n",
       "       25. , 25.2, 25.5, 25.8, 25.9, 26.1, 26.3, 26.4, 26.5, 26.6, 26.7,\n",
       "       26.8, 26.9, 27. , 27.1, 27.2, 27.3, 28.3, 29.3, 30.1, 30.2])"
      ]
     },
     "execution_count": 82,
     "metadata": {},
     "output_type": "execute_result"
    },
    {
     "data": {
      "image/png": "[encoded data removed]",
      "text/plain": [
       "<Figure size 432x288 with 1 Axes>"
      ]
     },
     "metadata": {
      "needs_background": "light"
     },
     "output_type": "display_data"
    }
   ],
   "source": [
    "temp_data = get_data(data, 'temperature')\n",
    "\n",
    "plt.plot(temp_data)\n",
    "np.unique(temp_data)"
   ]
  },
  {
   "cell_type": "code",
   "execution_count": 83,
   "id": "6a599848",
   "metadata": {},
   "outputs": [
    {
     "data": {
      "text/plain": [
       "[<matplotlib.lines.Line2D at 0x7f04981375e0>]"
      ]
     },
     "execution_count": 83,
     "metadata": {},
     "output_type": "execute_result"
    },
    {
     "data": {
      "image/png": "[encoded data removed]",
      "text/plain": [
       "<Figure size 432x288 with 1 Axes>"
      ]
     },
     "metadata": {
      "needs_background": "light"
     },
     "output_type": "display_data"
    }
   ],
   "source": [
    "plt.plot(get_data(data, 'led_1'))\n",
    "plt.plot(get_data(data, 'led_2'))\n",
    "plt.plot(get_data(data, 'led_3'))\n",
    "plt.plot(get_data(data, 'led_4'))"
   ]
  }
 ],
 "metadata": {
  "kernelspec": {
   "display_name": "Python 3 (ipykernel)",
   "language": "python",
   "name": "python3"
  },
  "language_info": {
   "codemirror_mode": {
    "name": "ipython",
    "version": 3
   },
   "file_extension": ".py",
   "mimetype": "text/x-python",
   "name": "python",
   "nbconvert_exporter": "python",
   "pygments_lexer": "ipython3",
   "version": "3.9.10"
  }
 },
 "nbformat": 4,
 "nbformat_minor": 5
}
